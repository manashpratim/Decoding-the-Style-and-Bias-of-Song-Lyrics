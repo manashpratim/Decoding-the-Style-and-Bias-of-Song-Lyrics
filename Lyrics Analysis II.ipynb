{
 "cells": [
  {
   "cell_type": "code",
   "execution_count": 18,
   "metadata": {},
   "outputs": [],
   "source": [
    "import nltk\n",
    "import pickle\n",
    "from wordcloud import WordCloud, STOPWORDS \n",
    "import matplotlib.pyplot as plt \n",
    "import pandas as pd \n",
    "import re\n",
    "from nltk.corpus import stopwords\n",
    "from textblob import TextBlob\n",
    "import seaborn as sns\n",
    "import numpy as np\n",
    "from nltk.corpus import cmudict\n",
    "d = cmudict.dict()\n",
    "from textstat.textstat import textstatistics, easy_word_set, legacy_round \n",
    "\n",
    "from nltk.corpus import wordnet as wn\n",
    "from nltk.stem.wordnet import WordNetLemmatizer\n",
    "from nltk import word_tokenize, pos_tag\n",
    "from collections import defaultdict\n",
    "\n",
    "tag_map = defaultdict(lambda : wn.NOUN)\n",
    "tag_map['J'] = wn.ADJ\n",
    "tag_map['V'] = wn.VERB\n",
    "tag_map['R'] = wn.ADV"
   ]
  },
  {
   "cell_type": "code",
   "execution_count": 98,
   "metadata": {},
   "outputs": [],
   "source": [
    "data=pickle.load(open('MSD.pickle','rb'))"
   ]
  },
  {
   "cell_type": "code",
   "execution_count": 37,
   "metadata": {},
   "outputs": [],
   "source": [
    "def text_processing(raw):\n",
    "    clean=re.sub('[\\n]',' ',raw.lower())\n",
    "    clean=re.sub('[^a-zA-Z]',' ',raw.lower())\n",
    "    return clean"
   ]
  },
  {
   "cell_type": "code",
   "execution_count": 38,
   "metadata": {},
   "outputs": [],
   "source": [
    "def tag_lemma(text):\n",
    "    tokens = word_tokenize(text.lower())\n",
    "    lmtzr = WordNetLemmatizer()\n",
    "    p=[]\n",
    "    for token, tag in pos_tag(tokens):\n",
    "        lemma = str(lmtzr.lemmatize(token, tag_map[tag[0]]))\n",
    "        p.append(lemma)        \n",
    "    return ' '.join(p)"
   ]
  },
  {
   "cell_type": "code",
   "execution_count": 39,
   "metadata": {},
   "outputs": [],
   "source": [
    "def count_lines(lines):\n",
    "    c=0\n",
    "    for i in lines:\n",
    "        if i!='':\n",
    "            c=c+1\n",
    "    return c"
   ]
  },
  {
   "cell_type": "code",
   "execution_count": 40,
   "metadata": {},
   "outputs": [],
   "source": [
    "def syllables_count(word): \n",
    "    return textstatistics().syllable_count(word) "
   ]
  },
  {
   "cell_type": "code",
   "execution_count": 89,
   "metadata": {},
   "outputs": [],
   "source": [
    "def unique_lines_more_than_once(lines):\n",
    "    l=[]\n",
    "    p=0\n",
    "    for j in range(len(lines)):\n",
    "            if lines[j]!='':\n",
    "                  l.append(lines[j])\n",
    "    from itertools import groupby\n",
    "    c=([len(list(group)) for key, group in groupby(l)])\n",
    "    #count=0\n",
    "    #for i in range(len(c)):\n",
    "        #if c[i]>1:\n",
    "            #count=count+1\n",
    "    #return count\n",
    "    return len(c)"
   ]
  },
  {
   "cell_type": "code",
   "execution_count": 103,
   "metadata": {},
   "outputs": [
    {
     "name": "stdout",
     "output_type": "stream",
     "text": [
      "1979\n"
     ]
    }
   ],
   "source": [
    "with open('msd_read.csv', 'a',errors='replace') as the_file:\n",
    "    the_file.write('Year,FK Score,SMOG Grade\\n')\n",
    "    for year in data:\n",
    "        lines=0\n",
    "        unique=0\n",
    "        line=0\n",
    "        for i in range(len(data[year])):\n",
    "            #total no of unique lines that appear more than once/ total no of lines \n",
    "            #unique=unique_lines_more_than_once(data[year][i].splitlines())+unique\n",
    "            lines=count_lines(data[year][i].splitlines())+lines\n",
    "            #total no of unique lines that appear more than once/ total no of unique lines \n",
    "            #l=unique_lines_more_than_once(data[year][i].splitlines())\n",
    "            #unique=u+unique\n",
    "            #line=l+line\n",
    "        # 1- total number of unique lines/ total number of lines\n",
    "        #repeat=1-(line/lines)\n",
    "        w=tag_lemma(text_processing(''.join(data[year]))).split()\n",
    "        words=len(w)\n",
    "        syll=0\n",
    "        poll=0\n",
    "        for i in range(len(w)):\n",
    "            syll=syllables_count(w[i])+syll\n",
    "            if syllables_count(w[i])>2:\n",
    "                poll=poll+1\n",
    "        fk=(0.39*(words/lines))+(11.8*(syll/words))-15.59\n",
    "        smog=1.0430*np.sqrt(poll*30/lines)+3.1291\n",
    "        #print(str(year)+','+str(fk)+'\\n')\n",
    "        the_file.write(str(year)+','+str(fk)+','+str(smog)+'\\n')\n",
    "    print(year)"
   ]
  },
  {
   "cell_type": "code",
   "execution_count": 104,
   "metadata": {},
   "outputs": [],
   "source": [
    "df=pd.read_csv('msd_read.csv')"
   ]
  },
  {
   "cell_type": "code",
   "execution_count": 101,
   "metadata": {},
   "outputs": [
    {
     "data": {
      "text/plain": [
       "[<matplotlib.lines.Line2D at 0x190643cf60>]"
      ]
     },
     "execution_count": 101,
     "metadata": {},
     "output_type": "execute_result"
    },
    {
     "data": {
      "image/png": "[encoded data removed]",
      "text/plain": [
       "<Figure size 432x288 with 1 Axes>"
      ]
     },
     "metadata": {},
     "output_type": "display_data"
    }
   ],
   "source": [
    "#Average Repetitiveness Score\n",
    "plt.xlabel('Year')\n",
    "plt.ylabel('Repetitiveness Percent')\n",
    "plt.title('Average Repetitiveness Percent')\n",
    "x=df['Year']\n",
    "y=df['Repetitiveness']\n",
    "bb=plt.scatter(x,y,label='Repetitiveness') \n",
    "z = np.polyfit(x, y, 1)\n",
    "p = np.poly1d(z)\n",
    "plt.plot(x,p(x),\"b--\")"
   ]
  },
  {
   "cell_type": "code",
   "execution_count": 99,
   "metadata": {},
   "outputs": [
    {
     "name": "stdout",
     "output_type": "stream",
     "text": [
      "1991\n",
      "1984\n",
      "2005\n",
      "1965\n",
      "1986\n",
      "2007\n",
      "1985\n",
      "2000\n",
      "1969\n",
      "1973\n",
      "1994\n",
      "1996\n",
      "1974\n",
      "1967\n",
      "1990\n",
      "1995\n",
      "1999\n",
      "1970\n",
      "1975\n",
      "2004\n",
      "2002\n",
      "2003\n",
      "1981\n",
      "1993\n",
      "1983\n",
      "1982\n",
      "1966\n",
      "1971\n",
      "1968\n",
      "2001\n",
      "1972\n",
      "1989\n",
      "1976\n",
      "1987\n",
      "1988\n",
      "1998\n",
      "2008\n",
      "1992\n",
      "1980\n",
      "1997\n",
      "1977\n",
      "2009\n",
      "2006\n",
      "2010\n",
      "1978\n",
      "1979\n"
     ]
    }
   ],
   "source": [
    "with open('msd_repeat.csv', 'a',errors='replace') as the_file:\n",
    "    the_file.write('Year,Repetitiveness\\n')\n",
    "    for year in data:\n",
    "        lines=0\n",
    "        unique=0\n",
    "        line=0\n",
    "        for i in range(len(data[year])):\n",
    "            #total no of unique lines that appear more than once/ total no of lines \n",
    "            #unique=unique_lines_more_than_once(data[year][i].splitlines())+unique\n",
    "            lines=count_lines(data[year][i].splitlines())+lines\n",
    "            #total no of unique lines that appear more than once/ total no of unique lines \n",
    "            l=unique_lines_more_than_once(data[year][i].splitlines())\n",
    "            #unique=u+unique\n",
    "            line=l+line\n",
    "        # 1- total number of unique lines/ total number of lines\n",
    "        print(year)\n",
    "        repeat=1-(line/lines)\n",
    "        the_file.write(str(year)+','+str(repeat*100)+'\\n')"
   ]
  },
  {
   "cell_type": "code",
   "execution_count": null,
   "metadata": {},
   "outputs": [],
   "source": []
  }
 ],
 "metadata": {
  "kernelspec": {
   "display_name": "Python 3",
   "language": "python",
   "name": "python3"
  },
  "language_info": {
   "codemirror_mode": {
    "name": "ipython",
    "version": 3
   },
   "file_extension": ".py",
   "mimetype": "text/x-python",
   "name": "python",
   "nbconvert_exporter": "python",
   "pygments_lexer": "ipython3",
   "version": "3.6.4"
  }
 },
 "nbformat": 4,
 "nbformat_minor": 2
}
